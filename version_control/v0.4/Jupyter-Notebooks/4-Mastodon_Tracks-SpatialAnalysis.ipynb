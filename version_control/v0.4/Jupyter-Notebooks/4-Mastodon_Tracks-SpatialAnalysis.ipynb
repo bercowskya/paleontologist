{
 "cells": [
  {
   "cell_type": "code",
   "execution_count": 1,
   "metadata": {},
   "outputs": [],
   "source": [
    "import numpy as np\n",
    "import matplotlib.pyplot as plt\n",
    "from read_roi import read_roi_zip\n",
    "import ipywidgets as widgets\n",
    "import untangle\n",
    "\n",
    "import h5py\n",
    "import os\n",
    "\n",
    "import paleo\n",
    "from mastodon_functions import xml_features, csv_features, ordering_tracks_all\n",
    "from paleo_functions import peak_detection_plots, manual_peak_curation, peak_detection, smoothing_filter"
   ]
  },
  {
   "cell_type": "markdown",
   "metadata": {},
   "source": [
    "# 2 - Spatial Analysis of cell tracks\n",
    "\n",
    "In this notebook we will import the .csv files obtained from Mastodon to have a first look on how the cell tracks look like. Here we will play with the tags, subtags and observe the dividing cells. "
   ]
  },
  {
   "cell_type": "markdown",
   "metadata": {},
   "source": [
    "<a id='top'></a>\n",
    "## Table of contents\n",
    "\n",
    "[1] [Image Characteristics](#image): Check whether the uploaded files are indeed corresponding with the right images and imaging parameters.  \n",
    "\n",
    "[2] [3D Spatial analysis](#3d): Here we show the 3 possible views (XY, XZ and YZ) of the coordinates of the cells.     \n",
    "\n",
    "[3] [Project cells into LOI](#proj): Use the segmented tool from Fiji in order to obtain a segmented line which will be used to project the cells' coordinates and observe their dynamics over a certain reference frame. \n",
    "\n",
    "[4] [Code ir yourself!](#code): Until now all the code has been hidden and you only had to click a few boxes. In case you want to try coding yourself, we show you a some lines that will be useful to start preparing your own code. "
   ]
  },
  {
   "cell_type": "markdown",
   "metadata": {},
   "source": [
    "## Folder and data paths\n",
    "In the next cell, you need to specify:\n",
    "- ``path_xml``: Path and file name of the .xml file obtained from converting the data to HDF5/XML.\n",
    "- ``path_csv``: Path and file name of the .csv file obtained from the tracks from Mastodon. You do not need to add the -edges or -vertices extension.\n",
    "- ``path_hdf5``: Path and file name of the .h5 file obtained from converting the data to HDF5/XML.\n",
    "- ``path_results``: Where to save the results like new tables or figures as PDFs.\n",
    "- ``path_roi``: Path and name file of the RoiSet.zip generated from segmenting an LOI (used for the reference frame).\n",
    "- ``path_kymograph``: If a Kymograph was previously computed using the Kymograph generator script, here you can add the path and file name of the Kymograph.py. "
   ]
  },
  {
   "cell_type": "code",
   "execution_count": 2,
   "metadata": {},
   "outputs": [],
   "source": [
    "position = 2\n",
    "\n",
    "# Path to .xml file generated when creating the .hdf5\n",
    "path_xml = '../Data/Position%d_20191213.xml'%position # Path to .xml file\n",
    "\n",
    "# Path to the -edges.csv amd -vertices.csv files (You only need path + name of file without the -edges or -vertices extension)\n",
    "path_csv = '../Data/Position%d-20191213-v19'%position\n",
    "\n",
    "# Path to .hs file generated when creating the xml/hdf5 \n",
    "path_hdf5 =  '../Data/Position%d_20191213.h5'%position\n",
    "\n",
    "# Where to save the results\n",
    "path_result = '../Data/Results'\n",
    "\n",
    "# Path to the .zip file which contains the ROIs or LOIs\n",
    "path_roi = '../Data/RoiSet-Position%d.zip'%position\n",
    "\n",
    "# Path to Kymograph.py generated with the Kymorgaph generator script \n",
    "path_kymograph = '../Data/Kymograph-Pos%d.npy'%position"
   ]
  },
  {
   "cell_type": "markdown",
   "metadata": {},
   "source": [
    "## Image characteristics\n",
    "<a id='image'></a>\n",
    "\n",
    "Because we stored the data as an XML/HDF5, the .xml file contains all the metadata we need. We will now extract it in order to know pixel size, number of planes, image dimensions  and total number of timepoints. \n",
    "\n",
    "You only need to specify the temporal resolution in seconds that you used to acquire the data (``tr``). \n",
    "\n",
    "If you want to go back to the table of contents click [here](#top)."
   ]
  },
  {
   "cell_type": "code",
   "execution_count": 3,
   "metadata": {},
   "outputs": [
    {
     "name": "stdout",
     "output_type": "stream",
     "text": [
      "The image has the following dimensions (XYZC): 2048, 2048, 150, 2\n",
      "There are 299 frames in total.\n",
      "Pixel Size: x = 0.347 micron, y = 0.347 micron z = 1.5 micron\n",
      "There are 150 Z-slices in total\n"
     ]
    }
   ],
   "source": [
    "# Time resolution in seconds (how often do you acquire time points)\n",
    "tr = 90\n",
    "tr_min = round(tr/60,2) # in minutes\n",
    "\n",
    "fts = xml_features(path_xml)\n",
    "\n",
    "# Features from the image obtained from the .xml generated by BigData Viewer\n",
    "print('The image has the following dimensions (XYZC): %d, %d, %d, %d'%(fts.width, fts.height, fts.n_slices, fts.channels))\n",
    "print('There are %d frames in total.'%fts.n_frames)\n",
    "print('Pixel Size: x = %.3g %s, y = %.3g %s z = %.2g %s'%(fts.x_pixel, fts.units, fts.y_pixel, fts.units, fts.z_pixel, fts.units))\n",
    "print('There are %d Z-slices in total'%fts.n_slices)"
   ]
  },
  {
   "cell_type": "markdown",
   "metadata": {},
   "source": [
    "## Data organization: build the cell tracks\n",
    "\n",
    "The function ``csv_features`` obtain all the features from each individual spot as a single unit. These spots are then rearranged according to their cell track and using the function ``ordering_tracks``. As a result, we get two new objects called ``spots`` and ``tracks``.\n",
    "\n",
    "By pressing ``spots.`` + <kbd>TAB</kbd> or ``tracks.`` + <kbd>TAB</kbd>, a list will pop with all the different variables you can obtain from the spot object or the tracks obtject. "
   ]
  },
  {
   "cell_type": "code",
   "execution_count": 4,
   "metadata": {
    "scrolled": true
   },
   "outputs": [
    {
     "name": "stderr",
     "output_type": "stream",
     "text": [
      "Load Cell Tracks: 100%|██████████| 128/128 [00:15<00:00,  8.06it/s]\n",
      "Arrange Cell Tracks: 100%|██████████| 128/128 [00:04<00:00, 31.46it/s]\n"
     ]
    }
   ],
   "source": [
    "# Function to obtain all the spots' information from the .csv file\n",
    "#spots = csv_features(path_csv, path_xml)\n",
    "\n",
    "# Order the time series according to each individual cell\n",
    "tracks = ordering_tracks_all(path_csv, path_xml)"
   ]
  },
  {
   "cell_type": "markdown",
   "metadata": {},
   "source": [
    "## 3D Spatial Analysis\n",
    "<a id='3d'></a>\n",
    "\n",
    "Here you can visualize the spatial dynamics of the cells. From left to right, there are 3 plots: XY, XZ and YZ coordinates of the cells. You can visualize them over time, change the axes and fix them in order to observe how the cells move and re-arrange over time. Moreover, they can be color coded with one of the channels. The scatter plot can also be tuned by chaning the colormap, the size of the scatter spots and the transparency the data. \n",
    "\n",
    "If you want to go back to the table of contents click [here](#top)."
   ]
  },
  {
   "cell_type": "code",
   "execution_count": 5,
   "metadata": {
    "scrolled": false
   },
   "outputs": [
    {
     "data": {
      "application/vnd.jupyter.widget-view+json": {
       "model_id": "4405a62cdf6d48cc9e194de65ae857a3",
       "version_major": 2,
       "version_minor": 0
      },
      "text/plain": [
       "Spatial3DAnalaysis(children=(VBox(children=(Tab(children=(HBox(children=(VBox(children=(IntSlider(value=0, des…"
      ]
     },
     "metadata": {},
     "output_type": "display_data"
    }
   ],
   "source": [
    "%matplotlib widget\n",
    "\n",
    "plt.style.use('mastodon_style.mplstyle')\n",
    "paleo.Spatial3DAnalaysis(path_xml, path_csv, tr_min, tracks)"
   ]
  },
  {
   "cell_type": "markdown",
   "metadata": {},
   "source": [
    "## Spatial Analysis using LOI\n",
    "<a id='image'></a>\n",
    "\n",
    "An LOI (line of interest) can be used in order to get some spatial reference for the tracks. For example, here we segment the notochord (which is th natural midline of th emebryo) and we project the cells in the LOI. This way, we can observe how the cells move over time in the Anterior-Posterior axes. \n",
    "\n",
    "### How to create LOIs?\n",
    "\n",
    "Here we read the LOIs created with Fiji's tool: [Segmented line](https://imagej.nih.gov/nih-image/manual/tools.html). You can chose to only draw lines in every few timepoitns and use an interpolation of ROI macro to interpolate lines between timepoints without segmented lines. Finaly, save the .roi files in a folder as a SetRoi.zip file. \n",
    "\n",
    "<div class=\"alert alert-block alert-warning\">\n",
    "    <b>WARNING:</b> When making the segmented lines, always start from the same reference position. For example, here we always start segmenting the posterior most part of the embryo. Therefore, our 0 position will be the posterior.\n",
    "</div>\n",
    "\n",
    "If you want to go back to the table of contents click [here](#top)."
   ]
  },
  {
   "cell_type": "code",
   "execution_count": 6,
   "metadata": {},
   "outputs": [],
   "source": [
    "# Align using their temporal position\n",
    "\n",
    "# Fill the timepoints where there are no cells tracked with nan\n",
    "tracks_save = np.ones((tracks.n_tracks_divs, fts.n_frames))*np.nan\n",
    "\n",
    "# Save also the x,y positions\n",
    "x_save = np.ones((tracks.n_tracks_divs, fts.n_frames))*np.nan\n",
    "y_save = np.ones((tracks.n_tracks_divs, fts.n_frames))*np.nan\n",
    "z_save = np.ones((tracks.n_tracks_divs, fts.n_frames))*np.nan\n",
    "\n",
    "# For each track \n",
    "for i in range(tracks.n_tracks_divs):\n",
    "    \n",
    "    # Add the tracked spot to the specific time frame to which it corresponds\n",
    "    for j,val in enumerate(tracks.spots_features['Frames'][i]):\n",
    "        tracks_save[i,val] = tracks.spots_features['Mean1'][i][j]\n",
    "        x_save[i,val] = tracks.spots_features['X'][i][j]\n",
    "        y_save[i,val] = tracks.spots_features['Y'][i][j]\n",
    "        z_save[i,val] = tracks.spots_features['Z'][i][j]"
   ]
  },
  {
   "cell_type": "markdown",
   "metadata": {},
   "source": [
    "## Plot cells in a max projected image\n",
    "\n",
    "If you want, you can plot the cells in a max projection movie to observe how the cell progress through the tissue. \n",
    "\n",
    "The idea is that you can observe one, or several cells move through the embryo and how they organize at the tissue level. Also, to create animated GIFs to observe the cell movement on a max projected movie like the following one:\n",
    "\n",
    "<img src=\"../Images-Notebook/GIF_Cropped cell-67-Embryo.gif\" width=\"250\" align=\"center\">\n",
    "\n",
    "We choose which timepoint we would like to see the cells. This way, we can observe how the cells behave within the tissue.  "
   ]
  },
  {
   "cell_type": "markdown",
   "metadata": {},
   "source": [
    "### Remove registration \n",
    "\n",
    "If the movie was time-registered for tracking, the first step is to remove the registration to go back to the original coordinate system so that we can project these cells into the max projection."
   ]
  },
  {
   "cell_type": "code",
   "execution_count": 7,
   "metadata": {},
   "outputs": [],
   "source": [
    "obj = untangle.parse(path_xml)\n",
    "\n",
    "x_save_r = []\n",
    "y_save_r = []\n",
    "z_save_r = []\n",
    "    \n",
    "time_points = fts.n_frames\n",
    "\n",
    "for j in range(tracks.n_tracks_divs):\n",
    "    \n",
    "    aux_x = []\n",
    "    aux_y = []\n",
    "    aux_z = []\n",
    "    \n",
    "    for i in range(0,(time_points-1)*fts.channels,fts.channels):\n",
    "        \n",
    "        # XYZ coordinates from mastodon\n",
    "        xyz_coord = np.array([x_save[j][int(i/2)],y_save[j][int(i/2)],z_save[j][int(i/2)]]).reshape(-1,1)\n",
    "    \n",
    "        # Registration from .xml\n",
    "        registration = np.array(obj.SpimData.ViewRegistrations.ViewRegistration[i].ViewTransform[0].affine.cdata.split(),dtype=float).reshape(3,4)\n",
    "        \n",
    "        # Rotation matrix\n",
    "        R = registration[:,:3] \n",
    "        \n",
    "        # Inverse of rotation matrix\n",
    "        R_inv = np.linalg.inv(R)\n",
    "        \n",
    "        # Translation matrix\n",
    "        T = registration[:,-1].reshape(-1,1)\n",
    "        \n",
    "        final = R_inv@(xyz_coord-T)\n",
    "        \n",
    "        # Save xyz de-registered coordinates\n",
    "        aux_x.append(final[0][0])\n",
    "        aux_y.append(final[1][0])\n",
    "        aux_z.append(final[2][0])\n",
    "\n",
    "    x_save_r.append(aux_x)\n",
    "    y_save_r.append(aux_y)\n",
    "    z_save_r.append(aux_z)"
   ]
  },
  {
   "cell_type": "markdown",
   "metadata": {},
   "source": [
    "### Follow cell or group of cells in a cropped FOV (field of view)\n",
    "\n",
    "For the following, you need to choose a cell or cells of interest, a subsampling (in HDF5 the data is subsampled up to 4 times), the initial and final z-plane you want to include in the Max-Projection:\n",
    "\n",
    "For example:\n",
    "\n",
    "- ``subsampling = 0`` or 1, 2 or 3\n",
    "- ``cell = 10`` or any from the cell tracks\n",
    "- ``channel = 1`` or 0, depending on the number of channels\n",
    "- ``z1 = 60`` Initial plane to get max projection\n",
    "- ``z2 = 120`` Final plane to get the max projection\n",
    "- ``vmin=300`` Grey scale values - this is the minimun value set for the histogram\n",
    "- ``vmax=1000`` Grey scale values - this is the maximum value set for the histogram\n",
    "\n",
    "Since it can be hard to know which z1 and z2 to obtain, either you can check with Fiji or, in the following jupyter cells you can choose a frame of interest ``tp`` and change ``z1`` and ``z2`` so that you can get the best value. Also, you can change the ``vmin`` and ``vmax`` to adjust the intesntiy values of the max projection. "
   ]
  },
  {
   "cell_type": "code",
   "execution_count": 22,
   "metadata": {},
   "outputs": [],
   "source": [
    "# Parameters to change\n",
    "subsampling = 1\n",
    "channel = 1\n",
    "tp = 0\n",
    "z1 = 60\n",
    "z2 = 120\n",
    "cell = [20, 30]\n",
    "vmin = 300\n",
    "vmax = 1000"
   ]
  },
  {
   "cell_type": "markdown",
   "metadata": {},
   "source": [
    "### Plot the selected timepoint to adjust z1-z2"
   ]
  },
  {
   "cell_type": "code",
   "execution_count": 23,
   "metadata": {},
   "outputs": [
    {
     "ename": "NameError",
     "evalue": "name 'f' is not defined",
     "output_type": "error",
     "traceback": [
      "\u001b[0;31m---------------------------------------------------------------------------\u001b[0m",
      "\u001b[0;31mNameError\u001b[0m                                 Traceback (most recent call last)",
      "\u001b[0;32m<ipython-input-23-a56a97ad214a>\u001b[0m in \u001b[0;36m<module>\u001b[0;34m\u001b[0m\n\u001b[1;32m      1\u001b[0m \u001b[0;31m#Get the HDF5 group\u001b[0m\u001b[0;34m\u001b[0m\u001b[0;34m\u001b[0m\u001b[0;34m\u001b[0m\u001b[0m\n\u001b[0;32m----> 2\u001b[0;31m \u001b[0mgroup\u001b[0m \u001b[0;34m=\u001b[0m \u001b[0mf\u001b[0m\u001b[0;34m[\u001b[0m\u001b[0;34m't%.5d'\u001b[0m\u001b[0;34m%\u001b[0m\u001b[0mtp\u001b[0m\u001b[0;34m]\u001b[0m\u001b[0;34m\u001b[0m\u001b[0;34m\u001b[0m\u001b[0m\n\u001b[0m\u001b[1;32m      3\u001b[0m \u001b[0;34m\u001b[0m\u001b[0m\n\u001b[1;32m      4\u001b[0m \u001b[0;31m# channel\u001b[0m\u001b[0;34m\u001b[0m\u001b[0;34m\u001b[0m\u001b[0;34m\u001b[0m\u001b[0m\n\u001b[1;32m      5\u001b[0m \u001b[0mchannel\u001b[0m \u001b[0;34m=\u001b[0m \u001b[0;34m's0%d'\u001b[0m\u001b[0;34m%\u001b[0m\u001b[0mchannel\u001b[0m\u001b[0;34m\u001b[0m\u001b[0;34m\u001b[0m\u001b[0m\n",
      "\u001b[0;31mNameError\u001b[0m: name 'f' is not defined"
     ]
    }
   ],
   "source": [
    "#Get the HDF5 group\n",
    "group = f['t%.5d'%tp]\n",
    "\n",
    "# channel \n",
    "channel = 's0%d'%channel\n",
    "\n",
    "# Subsampling \n",
    "subsampling = str(subsampling)\n",
    "\n",
    "max_img = np.max(group[channel][subsampling]['cells'][z1:z2],axis=0)\n",
    "\n",
    "# In case of subsampling\n",
    "sampling_x = fts.height/np.shape(max_img)[0]\n",
    "sampling_y = fts.height/np.shape(max_img)[1]"
   ]
  },
  {
   "cell_type": "code",
   "execution_count": null,
   "metadata": {},
   "outputs": [],
   "source": [
    "fig = plt.figure(figsize=[6,4])\n",
    "max_img = np.max(group[channel][subsampling]['cells'][z1:z2],axis=0)\n",
    "for i in range(len(cell)):\n",
    "    plt.scatter((x_save_r[cell[i]][j]/fts.x_pixel)/sampling_x,(y_save_r[cell[i]][j]/fts.y_pixel)/sampling_y, \n",
    "                c='magenta', edgecolor='black', linewidth=1, s=20, alpha=0.8)\n",
    "    \n",
    "plt.imshow(max_img, cmap='gray', vmin=vmin, vmax=vmax)\n",
    "plt.xlim([0,np.shape(max_img)[0]])\n",
    "plt.ylim([0,np.shape(max_img)[1]])\n",
    "plt.xticks([])\n",
    "plt.yticks([])"
   ]
  },
  {
   "cell_type": "markdown",
   "metadata": {},
   "source": [
    "### Plot the cell or cells over time in the max projection\n",
    "\n",
    "Once you are happy with the the number of planes you want to plot and the cells you want to include, you can save the cells projected into the max projection in a folder generated automatically. Each timepoint will be saved as a .png file. The entire folder which has been generated can now be dragged and dropped into Fiji to generate an [animated GIF](https://imagej.net/Save_as_animated_gif)."
   ]
  },
  {
   "cell_type": "code",
   "execution_count": null,
   "metadata": {},
   "outputs": [],
   "source": [
    "# Choose no nan data\n",
    "no_nan_tp = np.arange(0,time_points-1,1)[~np.isnan(x_save_r[cell])]\n",
    "\n",
    "# For each timepoint, for that cell\n",
    "data_path = os.path.join(\"%s/Cropped cell-%d-Embryo\"%(path_result,cell))\n",
    "if not os.path.exists(data_path):\n",
    "    os.mkdir(data_path)\n",
    "    \n",
    "for j in no_nan_tp:\n",
    "    group = f['t%.5d'%j]\n",
    "    fig = plt.figure(figsize=[6,4])\n",
    "    max_img = np.max(group[channel][subsampling]['cells'][60:120],axis=0)\n",
    "    plt.scatter((x_save_r[cell_rand][j]/fts.x_pixel)/sampling_x,(y_save_r[cell_rand][j]/fts.y_pixel)/sampling_y, c='magenta', edgecolor='black', linewidth=1, s=20, alpha=0.8)\n",
    "    plt.imshow(max_img, cmap='gray')\n",
    "    plt.xlim([0,np.shape(max_img)[0]])\n",
    "    plt.ylim([0,np.shape(max_img)[1]])\n",
    "    plt.xticks([])\n",
    "    plt.yticks([])\n",
    "    fig.savefig('%s/T_%.3d.png'%(data_path, j+1), format='png')\n",
    "    plt.close(fig)"
   ]
  },
  {
   "cell_type": "markdown",
   "metadata": {},
   "source": [
    "## LOI (line of interest) as new reference frame\n",
    "\n",
    "In the following Jupyter cells, we will use the LOIs we obtained from Fiji using the [segmented line](https://imagej.nih.gov/ij/docs/tools.html) and the [ROI manager](https://imagej.nih.gov/ij/docs/guide/146-30.html#sub:ROI-Manager...) to save all the lines we draw to segment a region of interest in the tissue. The idea is to use this line as our new coordinate system by transforming the 3D data into a 1D line to study one specific axis. \n",
    "\n",
    "For this example, we use an LOI following the Notochord (the midline of the embryo) in the XY plane. In the picture below you can observe a max projection of a timepoint of the movie and in yellow the segmented line. You can use the [LOI interpolator](https://imagej.nih.gov/ij/docs/guide/146-10.html). \n",
    "\n",
    "<img src=\"../Images-Notebook/LOI-Notochord.png\" width=\"300\" align=\"center\">\n",
    "\n",
    "If you want to go back to the table of contents click [here](#top)."
   ]
  },
  {
   "cell_type": "markdown",
   "metadata": {},
   "source": [
    "### Upload the .zip files with the generated ROIs"
   ]
  },
  {
   "cell_type": "code",
   "execution_count": 8,
   "metadata": {},
   "outputs": [],
   "source": [
    "# Read all the ROIs\n",
    "\n",
    "rois = read_roi_zip(path_roi)\n",
    "\n",
    "# Number of points in each segmented notochord line\n",
    "notochord_points = 32\n",
    "\n",
    "# Name of ROIs per time point\n",
    "name_rois = list(rois.keys())\n",
    "\n",
    "time_points = len(rois)\n",
    "\n",
    "# Initialize where to save the coordinates\n",
    "x_coords_not = np.zeros((time_points, notochord_points))\n",
    "y_coords_not = np.zeros((time_points, notochord_points))\n",
    "\n",
    "for j in range(len(rois)):\n",
    "\n",
    "    # To know in which frame the analysis happened\n",
    "    frame = rois[name_rois[j]]['position']-1#['frame']-1\n",
    "\n",
    "    x_coords_not[frame,:] = rois[name_rois[j]]['x']\n",
    "    y_coords_not[frame,:] = rois[name_rois[j]]['y']"
   ]
  },
  {
   "cell_type": "markdown",
   "metadata": {},
   "source": [
    "### Equidistant points: to increase spatial resolution\n",
    "\n",
    "Since when generating the LOI you must have made few points for simplicity, here we increment the number of points so that the line is more continuous. This will be helpful for when we project the cells later. "
   ]
  },
  {
   "cell_type": "code",
   "execution_count": 9,
   "metadata": {},
   "outputs": [
    {
     "name": "stdout",
     "output_type": "stream",
     "text": [
      "Number of timepoints: 300\n",
      "Number of points per timepoint: 310\n"
     ]
    }
   ],
   "source": [
    "def getEquidistantPoints(p1, p2, parts):\n",
    "    return zip(np.linspace(p1[0], p2[0], parts+1), np.linspace(p1[1], p2[1], parts+1))\n",
    "\n",
    "list(getEquidistantPoints((1,1), (5,5), 4))[0]\n",
    "\n",
    "x_not_equidist = []\n",
    "y_not_equidist = []\n",
    "n_points = 10 # Number of points to add \n",
    "\n",
    "for i in range(time_points):\n",
    "    \n",
    "    # Initial number of points from fiji\n",
    "    x = x_coords_not[i].astype(int)\n",
    "    y = y_coords_not[i].astype(int)\n",
    "    \n",
    "    x_aux = []\n",
    "    y_aux = []\n",
    "    \n",
    "    for j in range(notochord_points-1):\n",
    "        aux = list(getEquidistantPoints((x[j],y[j]),(x[j+1],y[j+1]), n_points))\n",
    "        \n",
    "        # For each of the inserted points\n",
    "        for k in range(len(aux)-1):\n",
    "            x_aux.append(aux[k][0])\n",
    "            y_aux.append(aux[k][1])\n",
    "            \n",
    "    x_not_equidist.append(x_aux)\n",
    "    y_not_equidist.append(y_aux)\n",
    "    \n",
    "print('Number of timepoints: %d'%np.shape(x_not_equidist)[0])\n",
    "print('Number of points per timepoint: %d'%np.shape(x_not_equidist)[1])"
   ]
  },
  {
   "cell_type": "markdown",
   "metadata": {},
   "source": [
    "### Cells plotted within the LOI\n",
    "\n",
    "We now visualize the cells on top of the segmented LOI. We can choose two tiempoints to do so: ``tp1`` and ``tp2``. \n",
    "The black line represents the segmented LOI and the red spot is the reference point. We always use the first point drawn as our reference point, which is why it is very important to be consisten on where we start to draw the LOI."
   ]
  },
  {
   "cell_type": "code",
   "execution_count": 10,
   "metadata": {},
   "outputs": [],
   "source": [
    "tp1 = 10\n",
    "tp2 = 150"
   ]
  },
  {
   "cell_type": "code",
   "execution_count": 11,
   "metadata": {},
   "outputs": [
    {
     "data": {
      "application/vnd.jupyter.widget-view+json": {
       "model_id": "90b82ee3ae9a4dc19fc2149d2d67f0b3",
       "version_major": 2,
       "version_minor": 0
      },
      "text/plain": [
       "Canvas(toolbar=Toolbar(toolitems=[('Home', 'Reset original view', 'home', 'home'), ('Back', 'Back to previous …"
      ]
     },
     "metadata": {},
     "output_type": "display_data"
    }
   ],
   "source": [
    "plt.figure(figsize=[12,4])\n",
    "plt.subplot(121)\n",
    "tp = tp1\n",
    "plt.plot(np.array(x_not_equidist[tp])*fts.x_pixel, (np.array(y_not_equidist[tp]))*fts.y_pixel, linewidth=3, color='black')\n",
    "plt.plot(x_not_equidist[tp][0]*fts.x_pixel,(y_not_equidist[tp][0])*fts.y_pixel,'o',color='red', markersize=10)\n",
    "\n",
    "for j in range(tracks.n_tracks_divs):\n",
    "    plt.scatter(x_save_r[j][tp],y_save_r[j][tp])\n",
    "\n",
    "plt.xlim([0,2048*fts.x_pixel])\n",
    "plt.ylim([0,2048*fts.y_pixel])\n",
    "\n",
    "\n",
    "plt.xlabel('X [um]', fontsize=14)\n",
    "plt.ylabel('Y [um]', fontsize=14)\n",
    "\n",
    "plt.title('Time point = %d min'%(tp*tr_min), fontsize=18)\n",
    "\n",
    "plt.subplot(122)\n",
    "tp = tp2\n",
    "plt.plot(np.array(x_not_equidist[tp])*fts.x_pixel, (np.array(y_not_equidist[tp]))*fts.y_pixel, linewidth=3, color='black')\n",
    "plt.plot(x_not_equidist[tp][0]*fts.x_pixel,(y_not_equidist[tp][0])*fts.y_pixel,'o',color='red', markersize=10)\n",
    "\n",
    "for j in range(tracks.n_tracks_divs):\n",
    "    plt.scatter(x_save_r[j][tp],y_save_r[j][tp])\n",
    "\n",
    "plt.xlim([0,2048*fts.x_pixel])\n",
    "plt.ylim([0,2048*fts.y_pixel])\n",
    "\n",
    "plt.xlabel('X [um]', fontsize=14)\n",
    "plt.ylabel('Y [um]', fontsize=14)\n",
    "\n",
    "plt.title('Time point = %d min'%(tp*tr_min), fontsize=18)\n",
    "\n",
    "plt.tight_layout()\n",
    "plt.show()"
   ]
  },
  {
   "cell_type": "markdown",
   "metadata": {},
   "source": [
    "### Project cells into the ROI\n",
    "\n",
    "We can now project the cells into the LOI in order to have a new reference frame which in this case will the the plane in which the segmented line was created."
   ]
  },
  {
   "cell_type": "code",
   "execution_count": 12,
   "metadata": {},
   "outputs": [],
   "source": [
    "# Distances\n",
    "\n",
    "distances = []\n",
    "n_cells = tracks.n_tracks_divs\n",
    "time_points = fts.n_frames\n",
    "\n",
    "for i in range(n_cells):\n",
    "    \n",
    "    aux_time = []\n",
    "    \n",
    "    for k in range(time_points-1):\n",
    "    \n",
    "        # Let us work in pixel values \n",
    "        x_cell = x_save_r[i][k]/fts.x_pixel\n",
    "        y_cell = y_save_r[i][k]/fts.y_pixel\n",
    "        \n",
    "        if np.isnan(x_cell)==False or np.isnan(y_cell)==False:\n",
    "\n",
    "            x_roi = np.array(x_not_equidist[k])\n",
    "            y_roi = np.array(y_not_equidist[k])\n",
    "\n",
    "            # Index to closest point in notochord \n",
    "            ind = np.argmin(np.sqrt((x_roi-x_cell)**2+(y_roi-y_cell)**2))\n",
    "\n",
    "            aux_dist = []\n",
    "\n",
    "            for j in range(1,len(x_roi)):\n",
    "                aux_dist.append(np.sqrt((x_roi[j]-x_roi[j-1])**2+(y_roi[j]-y_roi[j-1])**2))\n",
    "\n",
    "            aux_time.append(np.cumsum(aux_dist)[ind])\n",
    "        \n",
    "        else:\n",
    "            aux_time.append(np.nan)\n",
    "        \n",
    "    # Save the distances for each cell\n",
    "    distances.append(aux_time)"
   ]
  },
  {
   "cell_type": "markdown",
   "metadata": {},
   "source": [
    "### Obtian binning units from cells"
   ]
  },
  {
   "cell_type": "code",
   "execution_count": 13,
   "metadata": {},
   "outputs": [],
   "source": [
    "max_dist = 1800\n",
    "n_points = 100\n",
    "\n",
    "# Save binned distances and intensities for each cell\n",
    "distances_bin = []\n",
    "\n",
    "for k in range(n_cells):\n",
    "    \n",
    "    # Perform the binning\n",
    "    aux = (np.array(distances[k]))*n_points/max_dist\n",
    "    \n",
    "    # Save the distances\n",
    "    distances_bin.append(aux)"
   ]
  },
  {
   "cell_type": "markdown",
   "metadata": {},
   "source": [
    "## How the cells behave with respect the tissue level pattern?\n",
    "\n",
    "Using the Kymograph notebook you were able to generate the tissue level dynamics over space and time. In the next Jupyter cells, wew ill upload the kymograph and observe how the cells behave over time and space. This way, we can have a comparison between the single cells and the tissue level. "
   ]
  },
  {
   "cell_type": "code",
   "execution_count": 17,
   "metadata": {},
   "outputs": [],
   "source": [
    "%matplotlib inline\n",
    "kymograph = np.load(path_kymograph)\n",
    "\n",
    "# timepoints\n",
    "time_points = np.shape(kymograph)[0]\n",
    "max_dist = 1800\n",
    "n_points = 100"
   ]
  },
  {
   "cell_type": "code",
   "execution_count": 18,
   "metadata": {},
   "outputs": [
    {
     "data": {
      "image/png": "[encoded data removed]",
      "text/plain": [
       "<Figure size 576x720 with 1 Axes>"
      ]
     },
     "metadata": {
      "needs_background": "light"
     },
     "output_type": "display_data"
    }
   ],
   "source": [
    "# Normalize the values\n",
    "kymograph_2 = kymograph/np.max(kymograph)\n",
    "\n",
    "fig = plt.figure(figsize=[8,10])\n",
    "plt.imshow(kymograph_2, aspect=0.1)\n",
    "plt.xlabel('Distance to most posterior point [um]', fontsize=16)\n",
    "plt.ylabel('Time [min]', fontsize=16)\n",
    "\n",
    "plt.yticks(np.linspace(0,time_points,10),map(int,np.linspace(0,time_points,10)*tr/60), fontsize=14)\n",
    "plt.xticks(np.linspace(0,n_points,10),map(int,np.linspace(0,max_dist,10)*fts.x_pixel), fontsize=14)\n",
    "plt.xlim([0,n_points-2])\n",
    "plt.ylim([0,time_points-2])\n",
    "plt.gca().invert_yaxis()"
   ]
  },
  {
   "cell_type": "markdown",
   "metadata": {},
   "source": [
    "### How does the intensity compare from the tissue level to the single cells?\n",
    "\n",
    "For this, you can choose which cell do you want to observe compared to the wave generated during that space and time poisitions. "
   ]
  },
  {
   "cell_type": "code",
   "execution_count": 19,
   "metadata": {},
   "outputs": [],
   "source": [
    "cells = [10]"
   ]
  },
  {
   "cell_type": "code",
   "execution_count": 20,
   "metadata": {},
   "outputs": [],
   "source": [
    "intensities = []\n",
    "for j in range(n_cells):\n",
    "    aux_int = []\n",
    "\n",
    "    for i in range(time_points-2):\n",
    "        dist = distances_bin[cell][i]\n",
    "\n",
    "        # If there is no nan, then we obtain the kymograph values\n",
    "        if np.isnan(dist)==False:\n",
    "            x = int(dist)\n",
    "            y = i\n",
    "            aux_int.append(kymograph_2[y,x])\n",
    "        else:\n",
    "            aux_int.append(np.nan)\n",
    "            \n",
    "    intensities.append(aux_int)"
   ]
  },
  {
   "cell_type": "code",
   "execution_count": 22,
   "metadata": {},
   "outputs": [
    {
     "data": {
      "image/png": "[encoded data removed]",
      "text/plain": [
       "<Figure size 432x144 with 1 Axes>"
      ]
     },
     "metadata": {
      "needs_background": "light"
     },
     "output_type": "display_data"
    }
   ],
   "source": [
    "#cell = 6\n",
    "plt.figure(figsize=[6,2])\n",
    "\n",
    "count = 0\n",
    "\n",
    "for i in cells: \n",
    "    aux = intensities[i]\n",
    "    aux = np.array(aux)\n",
    "\n",
    "    \n",
    "    if count == 0:\n",
    "        # Remove first value to start from 0\n",
    "        init_vals = aux-aux[np.isfinite(aux)][0]\n",
    "        plt.plot(init_vals, color='red', linewidth=2, label='Wave')\n",
    "        \n",
    "        # Normalize intensity values\n",
    "        init_vals = tracks_save[i]-np.mean(tracks_save[i][np.isfinite(tracks_save[i])][0])\n",
    "        norm_vals = init_vals/np.nanmax(init_vals)\n",
    "        plt.plot(norm_vals, color='black', linewidth=2, label='Cell')\n",
    "\n",
    "    else:\n",
    "        # Remove first value to start from 0\n",
    "        init_vals = aux-aux[np.isfinite(aux)][0]\n",
    "        plt.plot(init_vals, color='red', linewidth=2)\n",
    "        \n",
    "        # Normalize intensity values\n",
    "        init_vals = tracks_save[i]-np.mean(tracks_save[i][np.isfinite(tracks_save[i])][0])\n",
    "        norm_vals = init_vals/np.nanmax(init_vals)\n",
    "        plt.plot(norm_vals, color='black', linewidth=2)\n",
    "        \n",
    "    count +=1\n",
    "        \n",
    "plt.xlabel('Time [min]', fontsize=16)\n",
    "locs, labels = plt.xticks()\n",
    "plt.xticks(locs, map(int,np.round(locs*tr_min)), fontsize=14)\n",
    "plt.yticks(fontsize=14)\n",
    "plt.ylabel('Normalized\\nMean Intensity [GSV]', fontsize=16)\n",
    "plt.legend(loc='best', fontsize=14)\n",
    "plt.xlim([0,150])\n",
    "\n",
    "plt.show()"
   ]
  },
  {
   "cell_type": "markdown",
   "metadata": {},
   "source": [
    "## Code it your self!\n",
    "<a id='code'></a>\n",
    "\n",
    "If you want to go back to the table of contents click [here](#top)."
   ]
  },
  {
   "cell_type": "code",
   "execution_count": null,
   "metadata": {},
   "outputs": [],
   "source": []
  }
 ],
 "metadata": {
  "kernelspec": {
   "display_name": "Python 3",
   "language": "python",
   "name": "python3"
  },
  "language_info": {
   "codemirror_mode": {
    "name": "ipython",
    "version": 3
   },
   "file_extension": ".py",
   "mimetype": "text/x-python",
   "name": "python",
   "nbconvert_exporter": "python",
   "pygments_lexer": "ipython3",
   "version": "3.9.4"
  }
 },
 "nbformat": 4,
 "nbformat_minor": 4
}
