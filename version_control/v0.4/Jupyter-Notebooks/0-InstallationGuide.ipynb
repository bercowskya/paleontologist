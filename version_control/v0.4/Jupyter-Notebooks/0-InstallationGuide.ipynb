{
 "cells": [
  {
   "cell_type": "markdown",
   "metadata": {},
   "source": [
    "# 0 - Installation Guide "
   ]
  },
  {
   "cell_type": "markdown",
   "metadata": {},
   "source": [
    "## Set up your computer to start using Anaconda and Jupyter notebooks.\n",
    "\n",
    "The first step is to download Anaconda which we will be using as our Python distribution. Paleonthologist is available in the form of Jupyter Notebooks so we will set up this as well. Finally, we will create an environment to install all the packages needed to start using Paleonthologist.  "
   ]
  },
  {
   "cell_type": "markdown",
   "metadata": {},
   "source": [
    "## Install Anaconda Distribution\n",
    "\n",
    "Anaconda is available for Linux, Mac and Windows. It comes with Python version 3, conda package manager (with the possibility to download form the 7500 packahes available), Anaconda Prompt (the command shell line) and Anaconda Navigator (the GUI). To download, visit the following [Link](https://www.anaconda.com/products/individual).\n",
    "\n",
    "If you have any doubts or would like more information on how to get started with Anaconda, visit the following [Link](https://docs.anaconda.com/anaconda/user-guide/getting-started/).\n",
    "\n",
    "Once isntalled, we can launch Anaconda Navigator.\n",
    "- Windows: From the Start menu, click the Anaconda Navigator desktop app.\n",
    "- Mac: From the Launchpad, click the Anaconda Navigator icon\n",
    "- Linux: From a terminal window type ``anaconda-navigator``."
   ]
  },
  {
   "cell_type": "markdown",
   "metadata": {},
   "source": [
    "# Using the terminal/command line/anaconda prompt"
   ]
  },
  {
   "cell_type": "markdown",
   "metadata": {},
   "source": [
    "## 1. Upload the environment - from command line\n",
    "\n",
    "As mentioned before, you could have the case in which you have conflicts between two packages because they require different versions of another packages or a similar case. For this reason, we will create an environment specific to follow all the examples of this chapter. \n",
    "For the full in detail explanation on how to create environments using conda, visit the [Link](https://docs.conda.io/projects/conda/en/latest/user-guide/tasks/manage-environments.html)\n",
    "\n",
    "To load the environment from Paleonthologist, open the terminal or an Anaconda Prompt and follow the following steps:\n",
    "\n",
    "[1] Go to the path were you saved the Paleonthologist folder. For this you can open a terminal or command line or anaconda prompt and write:\n",
    "``cd /path/to/Paelonthologist``\n",
    "\n",
    "[1] ``conda env create -f environment.yml ``\n",
    "\n",
    "[2] Conda will ask you if you want to proceed: ``proceed ([y]/n)?`` , type ``y``. \n",
    "\n",
    "A new environment will be created and you can check it on the Anaconda Navigator in the Environments tab (below the home tab, on the left). You will see that there is no package installed to avoid package conflicts. However, we will be using many of the packages that come already installed with the Anaconda Distribution so in order to get them all, we use the following line: \n",
    "\n",
    "`` conda activate paleonthologist`` "
   ]
  },
  {
   "cell_type": "markdown",
   "metadata": {},
   "source": [
    "## 2. Run Paleonthologist - from command line\n",
    "\n",
    "Any time you want to use Paleonthologist, you can open a terminal/command line/anaconda prompt, access the folder were you have the Paleonthologist folder and then activate the environment.\n",
    "\n",
    "``conda activate paleonthologist``\n",
    "\n",
    "And then open jupyter notebook, so you can start using the Notebooks. \n",
    "\n",
    "``jupyter notebook`` "
   ]
  },
  {
   "cell_type": "markdown",
   "metadata": {},
   "source": [
    "# Using the Anaconda Navigator"
   ]
  },
  {
   "cell_type": "markdown",
   "metadata": {},
   "source": [
    "## 1. Upload the enviroment - from Anaconda Navigator\n",
    "\n",
    "Each environment has a YML-formatted configuration file. If someone has given you an environment file that you want to use, for example environment.yml, and you have saved it to your computer, you can import it into Navigator. For more information, follow this [link](https://docs.anaconda.com/anaconda/navigator/tutorials/manage-environments/#importing-an-environment).\n",
    "\n",
    "To install the environment from the Anaconda Navigator, first open the Anaconda Navigator and follow these steps: \n",
    "\n",
    "1. At the bottom of the environments list, click the Import button.\n",
    "<img src=\"../../Images-Notebook/ImportPopUp.png\" width=300>\n",
    "\n",
    "2. In the Import dialog box, type a descriptive name for the new environment, which in this case is ``paleonthologist``.\n",
    "<img src=\"../../Images-Notebook/ImportEnviroment_YML.png\" width=300>\n",
    "\n",
    "3. Click the file folder icon to browse to the environment.yml file, or type the file name, including its path.\n",
    "4. Click the Import button.\n",
    "\n",
    "Whenever you want to use paleonthologist, open the Anaconda Navigator and make sure you have the environment activated:\n",
    "\n",
    "<img src=\"../../Images-Notebook/StartPaleonthologistEnv.png\" width=300>"
   ]
  },
  {
   "cell_type": "markdown",
   "metadata": {},
   "source": [
    "## 2. Run Paleonthologist - from Anaconda Navigator\n",
    "\n",
    "In the Anaconda Navigator home tab, in the applications section, scroll until you see the icon for Jupyter Notebook. Click the ``launch``in the Jupyter Notebook. \n",
    "\n",
    "<img src=\"../../Images-Notebook/AnacondaNavigator.png\">\n",
    "\n",
    "This will open a new window on your browser. From here, browse to the Paleonthologist folder and open any of the ``.ipynb``you want to use from Paleonthologist."
   ]
  },
  {
   "cell_type": "markdown",
   "metadata": {},
   "source": [
    "# First time with Jupyter Notebooks?\n",
    "\n",
    "In the figure below you will see an example of a Jupyter Notebook with a mix of markdown (were you can write text and equations or even upload images) and code cells (where you will write the code). In the image below you can also find the meaning of each of the shortcut options from the menu.\n",
    "\n",
    "<img src=\"../../Images-Notebook/JupyterNotebook.png\">\n",
    "\n",
    "The command palette shows a list of keys and shortcus to use with the notebook. The RISE slide show allows you to convert your notebook into a [reveal.js-based](https://rise.readthedocs.io/en/stable/) presentation (we will have an example figure later).\n",
    "\n",
    "As you can see in this figure, usually the first cell is used to import the packages you will use in your notebook. There are generally two types of import syntax:\n",
    "\n",
    "``import package as pkg ``\n",
    "\n",
    "Where you import the resource directly and you chose to rename it (which is something very common and there are usually conventional names for each package). Or, you can import a sub-package or class or function from a package:\n",
    "\n",
    "``from package import sub-package ``\n",
    "\n",
    "Later on, whenever you want to use a function or a method from the uploaded package you just need to call it like this: ``pkg.function()``\n",
    "\n",
    "If you want to learn more about how to import packages on Python, follow the tutorial on this [Link](https://realpython.com/absolute-vs-relative-python-imports/)"
   ]
  },
  {
   "cell_type": "code",
   "execution_count": null,
   "metadata": {},
   "outputs": [],
   "source": []
  }
 ],
 "metadata": {
  "kernelspec": {
   "display_name": "Python 3",
   "language": "python",
   "name": "python3"
  },
  "language_info": {
   "codemirror_mode": {
    "name": "ipython",
    "version": 3
   },
   "file_extension": ".py",
   "mimetype": "text/x-python",
   "name": "python",
   "nbconvert_exporter": "python",
   "pygments_lexer": "ipython3",
   "version": "3.9.4"
  }
 },
 "nbformat": 4,
 "nbformat_minor": 4
}
